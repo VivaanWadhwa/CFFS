{
 "cells": [
  {
   "cell_type": "code",
   "execution_count": 1,
   "metadata": {},
   "outputs": [],
   "source": [
    "import os\n",
    "import glob"
   ]
  },
  {
   "cell_type": "code",
   "execution_count": 2,
   "metadata": {},
   "outputs": [],
   "source": [
    "from labeller import Labeller\n",
    "from product import Product\n",
    "from ingredient import Ingredient\n",
    "from prep import Prep\n",
    "from item import Item\n",
    "\n",
    "class Outlet:\n",
    "    \"\"\"\n",
    "    Class representing all the data of an outlet\n",
    "\n",
    "    Attributes:\n",
    "        Name: String\n",
    "        Owner: String\n",
    "        Products: Product[]\n",
    "        Preps: Prep[]\n",
    "        Items: Item[]\n",
    "    \"\"\"\n",
    "\n",
    "    def __init__(self, name, owner, products):\n",
    "        self.name = name\n",
    "        self.owner = owner\n",
    "        self.products = products\n",
    "        self.preps = []\n",
    "        self.items = []\n",
    "    ##Getters\n",
    "    def get_name(self):\n",
    "        \"\"\"\n",
    "        Get the name of the outlet\n",
    "        \"\"\"\n",
    "        return self.name\n",
    "    def get_owner(self):\n",
    "        \"\"\"\n",
    "        Get the owner of the outlet\n",
    "        \"\"\"\n",
    "        return self.owner\n",
    "    def get_products(self):\n",
    "        \"\"\"\n",
    "        Get the products of the outlet\n",
    "        \"\"\"\n",
    "        return self.products\n",
    "    def add_product(self, product):\n",
    "        \"\"\"\n",
    "        Add a product to the outlet\n",
    "        \"\"\"\n",
    "        self.products.append(product)\n",
    "    def add_products(self, filepath):\n",
    "        \"\"\"\n",
    "        Add products to the outlet from a file\n",
    "\n",
    "        Input:\n",
    "        filepath: String\n",
    "\n",
    "        Output:\n",
    "        None\n",
    "        \"\"\"\n",
    "        labeller = Labeller(filepath, self.name)\n",
    "        labeller.read_recipes()\n",
    "        def create_item(item):\n",
    "            idx = item[\"ItemId\"].values[0]\n",
    "            for x in self.items:\n",
    "                if x.idx == idx:\n",
    "                    return x\n",
    "            name = item[\"Description\"].values[0]\n",
    "            item_obj = Item(idx, name)\n",
    "            self.items.append(item_obj)\n",
    "            return item_obj\n",
    "        def create_prep(prep):\n",
    "            idx = prep[\"PrepId\"].values[0]\n",
    "            for x in self.preps:\n",
    "                if x.idx == idx:\n",
    "                    return x\n",
    "            name = prep[\"Description\"].values[0]\n",
    "            prep_ingredients = labeller.ingredients.loc[labeller.ingredients['Recipe'] == idx]\n",
    "            prep_ingredients = create_ingredients(prep_ingredients)\n",
    "            prep_weight = prep[\"PakQty\"].values[0]\n",
    "            prep_uom = prep[\"PakUOM\"].values[0]\n",
    "            prep_obj = Prep(idx, name, prep_ingredients, prep_weight, prep_uom)\n",
    "            self.preps.append(prep_obj)\n",
    "            return prep_obj\n",
    "        def create_ingredients(ingredients):\n",
    "            ingredient_list = []\n",
    "            try:\n",
    "                for _,row in ingredients.iterrows():\n",
    "                    if row[\"IngredientId\"].startswith(\"I\"):\n",
    "                        item_data = labeller.items.loc[labeller.items['ItemId'] == row[\"IngredientId\"]]\n",
    "                        item = create_item(item_data)\n",
    "                        ingredient = Ingredient(item.name, row[\"Qty\"], row[\"Uom\"], item)\n",
    "                    elif row[\"IngredientId\"].startswith(\"P\"):\n",
    "                        prep_data = labeller.preps.loc[labeller.preps['PrepId'] == row[\"IngredientId\"]]\n",
    "                        prep = create_prep(prep_data)\n",
    "                        ingredient = Ingredient(prep.name, row[\"Qty\"],row[\"Uom\"] ,prep)\n",
    "                    elif row[\"IngredientId\"].startswith(\"R\"):\n",
    "                        prod_data = labeller.products.loc[labeller.products['ProdId'] == row[\"IngredientId\"]]\n",
    "                        prod = create_product(prod_data['ProdId'].values[0])\n",
    "                        ingredient = Ingredient(prod.name, row[\"Qty\"],row[\"Uom\"] ,prod)\n",
    "                    else:\n",
    "                        print(\"Invalid Ingredient ID: \", row[\"IngredientId\"])\n",
    "                        continue\n",
    "                    ingredient_list.append(ingredient)\n",
    "            except KeyError as e:\n",
    "                print(\"KeyError in creating ingredients: \", e)\n",
    "                print(\"Row: \", row)\n",
    "                print(\"Ingredients: \", ingredients)\n",
    "            except ValueError as e:\n",
    "                print(\"ValueError in creating ingredients: \", e)\n",
    "                print(\"Row: \", row)\n",
    "                print(\"Ingredients: \", ingredients)\n",
    "            except TypeError as e:\n",
    "                print(\"TypeError in creating ingredients: \", e)\n",
    "                print(\"Row: \", row)\n",
    "                print(\"Ingredients: \", ingredients)\n",
    "            return ingredient_list\n",
    "        def create_product(prodID):\n",
    "            #Data from Products Dataframe\n",
    "            Prod_row = labeller.products.loc[labeller.products['ProdId'] == prodID]\n",
    "            name = Prod_row['Description'].values[0]\n",
    "            #Data from Ingredients Dataframe\n",
    "            ingredients = labeller.ingredients.loc[labeller.ingredients['Recipe'] == prodID]\n",
    "            ingredients = create_ingredients(ingredients)\n",
    "            return Product(prodID, name, ingredients)\n",
    "        for _,row in labeller.products.iterrows():\n",
    "            self.products.append(create_product(row['ProdId']))\n",
    "    def remove_product(self, product):\n",
    "        \"\"\"\n",
    "        Remove a product from the outlet\n",
    "        \"\"\"\n",
    "        self.products.remove(product)\n",
    "    def __str__(self):\n",
    "        return self.name + \" (\" + self.owner+ \")\"\n",
    "    \n",
    "    "
   ]
  },
  {
   "cell_type": "code",
   "execution_count": 3,
   "metadata": {},
   "outputs": [],
   "source": [
    "x = Outlet(\"Outlet1\", \"Owner1\", [])"
   ]
  },
  {
   "cell_type": "code",
   "execution_count": 4,
   "metadata": {},
   "outputs": [
    {
     "name": "stdout",
     "output_type": "stream",
     "text": [
      "['/Users/vivaanwadhwa/Documents/GitHub/CFFS/data/raw/Gather/ALL_gather_menu_july30.oc', '/Users/vivaanwadhwa/Documents/GitHub/CFFS/data/raw/Gather/missing_gather_items_15_july.oc', '/Users/vivaanwadhwa/Documents/GitHub/CFFS/data/raw/Gather/Gather_missing_items.oc.oc']\n"
     ]
    }
   ],
   "source": [
    "os.chdir(\"../../../\")\n",
    "filepath_list = glob.glob(os.path.join(os.getcwd(), \"data\", \"raw\", \"Gather\", \"*.oc\"))\n",
    "print(filepath_list)"
   ]
  },
  {
   "cell_type": "code",
   "execution_count": 5,
   "metadata": {},
   "outputs": [],
   "source": [
    "x.add_products(filepath_list)"
   ]
  },
  {
   "cell_type": "code",
   "execution_count": 6,
   "metadata": {},
   "outputs": [
    {
     "data": {
      "text/plain": [
       "402"
      ]
     },
     "execution_count": 6,
     "metadata": {},
     "output_type": "execute_result"
    }
   ],
   "source": [
    "len(x.get_products())"
   ]
  },
  {
   "cell_type": "code",
   "execution_count": null,
   "metadata": {},
   "outputs": [],
   "source": []
  }
 ],
 "metadata": {
  "kernelspec": {
   "display_name": "cffs",
   "language": "python",
   "name": "python3"
  },
  "language_info": {
   "codemirror_mode": {
    "name": "ipython",
    "version": 3
   },
   "file_extension": ".py",
   "mimetype": "text/x-python",
   "name": "python",
   "nbconvert_exporter": "python",
   "pygments_lexer": "ipython3",
   "version": "3.12.7"
  }
 },
 "nbformat": 4,
 "nbformat_minor": 2
}
