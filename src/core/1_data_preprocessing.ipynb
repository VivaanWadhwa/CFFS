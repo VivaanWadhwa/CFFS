{
 "cells": [
  {
   "cell_type": "markdown",
   "metadata": {},
   "source": [
    "![](ubc_header.png)"
   ]
  },
  {
   "cell_type": "markdown",
   "metadata": {},
   "source": [
    "# Climate-Friendly Food Systems (CFFS) Labelling Project\n",
    "\n",
    "### The University of British Columbia\n",
    "\n",
    "****\n",
    "\n",
    "## Part I: Data Preprocessing"
   ]
  },
  {
   "cell_type": "markdown",
   "metadata": {},
   "source": [
    "## Set up and Import Libraries"
   ]
  },
  {
   "cell_type": "code",
   "execution_count": 1,
   "metadata": {},
   "outputs": [],
   "source": [
    "#pip install -r requirements.txt"
   ]
  },
  {
   "cell_type": "code",
   "execution_count": 2,
   "metadata": {},
   "outputs": [],
   "source": [
    "import numpy as np\n",
    "import pandas as pd\n",
    "import matplotlib.pyplot as plt\n",
    "import glob\n",
    "import os\n",
    "import csv\n",
    "from itertools import islice\n",
    "from decimal import Decimal\n",
    "import xml.etree.ElementTree as et\n",
    "from xml.etree.ElementTree import parse\n",
    "import openpyxl\n",
    "import pytest"
   ]
  },
  {
   "cell_type": "code",
   "execution_count": 3,
   "metadata": {},
   "outputs": [
    {
     "name": "stdout",
     "output_type": "stream",
     "text": [
      "/Users/vivaanwadhwa/Documents/GitHub/CFFS_sharon_2024\n"
     ]
    }
   ],
   "source": [
    "# RUN ONLY ONCE\n",
    "# os.chdir is used to change the current directory to the specified path\n",
    "os.chdir(\"../\") # Sets path to the repo folder as it is one level above where this file exists!\n",
    "path = os.getcwd()\n",
    "print(path)"
   ]
  },
  {
   "cell_type": "markdown",
   "metadata": {},
   "source": [
    "****\n",
    "\n",
    "## Load Data Files\n",
    "\n",
    "### Set Data File Path"
   ]
  },
  {
   "cell_type": "code",
   "execution_count": 4,
   "metadata": {},
   "outputs": [
    {
     "data": {
      "text/plain": [
       "['/Users/vivaanwadhwa/Documents/GitHub/CFFS_sharon_2024/data/raw/Gather/ALL_gather_menu_july30.oc',\n",
       " '/Users/vivaanwadhwa/Documents/GitHub/CFFS_sharon_2024/data/raw/Gather/missing_gather_items_15_july.oc',\n",
       " '/Users/vivaanwadhwa/Documents/GitHub/CFFS_sharon_2024/data/raw/Gather/Gather_missing_items.oc.oc']"
      ]
     },
     "execution_count": 4,
     "metadata": {},
     "output_type": "execute_result"
    }
   ],
   "source": [
    "# Select data file path for the chosen venue and time range where the recipes data stored\n",
    "\n",
    "# OK 2023\n",
    "# filepath_list = glob.glob(os.path.join(os.getcwd(), \"data\", \"raw\", \"OK\", \"*.oc\"))\n",
    "\n",
    "# Totem 2023\n",
    "# filepath_list = glob.glob(os.path.join(os.getcwd(), \"data\", \"raw\", \"Feast\", \"*.oc\"))\n",
    "\n",
    "# Gather 2023\n",
    "filepath_list = glob.glob(os.path.join(os.getcwd(), \"data\", \"raw\", \"Gather\", \"*.oc\"))\n",
    "\n",
    "# filepath_list = glob.glob(os.path.join(os.getcwd(), \"data\", \"raw\", \"BLUEBERRY_FESTIVAL_24\"))\n",
    "\n",
    "# filepath_list = glob.glob(os.path.join(os.getcwd(), \"data\", \"raw\", \"HARVEST_FESTIVAL_24\"))\n",
    "\n",
    "filepath_list"
   ]
  },
  {
   "cell_type": "markdown",
   "metadata": {},
   "source": [
    "### Import Items List"
   ]
  },
  {
   "cell_type": "code",
   "execution_count": 5,
   "metadata": {
    "scrolled": true
   },
   "outputs": [],
   "source": [
    "# Read items.xml files in the filepath_list and construct a dataframe\n",
    "ItemId = []\n",
    "Description = []\n",
    "CaseQty = []\n",
    "CaseUOM = []\n",
    "PakQty = []\n",
    "PakUOM = []\n",
    "InventoryGroup = []\n",
    "\n",
    "\n",
    "# from the items xml file, findtext of CaseQty, CaseUOM, PakQty, PakUOM, and InventoryGroup\n",
    "# then append it on the lists above\n",
    "\n",
    "for filepath in filepath_list:\n",
    "    path = filepath + '/Items.xml'\n",
    "    if os.path.isfile(path):\n",
    "        xtree = et.parse(path)\n",
    "        xroot = xtree.getroot()\n",
    "        for item in xtree.iterfind('Item'):\n",
    "            ItemId.append(item.attrib['id'])\n",
    "            Description.append(item.findtext('Description'))\n",
    "            CaseQty.append(item.findtext('CaseQty'))\n",
    "            CaseUOM.append(item.findtext('CaseUOM'))\n",
    "            PakQty.append(item.findtext('PakQty'))\n",
    "            PakUOM.append(item.findtext('PakUOM'))\n",
    "            InventoryGroup.append(item.findtext('InventoryGroup'))\n",
    "\n",
    "            \n",
    "# Create a dataframe from the lists created above.\n",
    "        \n",
    "Items = pd.DataFrame({'ItemId': ItemId, 'Description': Description, 'CaseQty': CaseQty, \n",
    "                      'CaseUOM': CaseUOM, 'PakQty': PakQty, 'PakUOM': PakUOM, 'InventoryGroup': InventoryGroup}\n",
    "                    )\n",
    "\n",
    "Items.drop_duplicates(inplace=True)\n",
    "\n",
    "Items.reset_index(drop=True, inplace=True)"
   ]
  },
  {
   "cell_type": "code",
   "execution_count": 6,
   "metadata": {},
   "outputs": [],
   "source": [
    "# creates a new array with unique ItemIds\n",
    "all_id_list = Items[\"ItemId\"].unique()"
   ]
  },
  {
   "cell_type": "code",
   "execution_count": 7,
   "metadata": {},
   "outputs": [
    {
     "data": {
      "text/html": [
       "<div>\n",
       "<style scoped>\n",
       "    .dataframe tbody tr th:only-of-type {\n",
       "        vertical-align: middle;\n",
       "    }\n",
       "\n",
       "    .dataframe tbody tr th {\n",
       "        vertical-align: top;\n",
       "    }\n",
       "\n",
       "    .dataframe thead th {\n",
       "        text-align: right;\n",
       "    }\n",
       "</style>\n",
       "<table border=\"1\" class=\"dataframe\">\n",
       "  <thead>\n",
       "    <tr style=\"text-align: right;\">\n",
       "      <th></th>\n",
       "      <th>ItemId</th>\n",
       "      <th>Description</th>\n",
       "      <th>CaseQty</th>\n",
       "      <th>CaseUOM</th>\n",
       "      <th>PakQty</th>\n",
       "      <th>PakUOM</th>\n",
       "      <th>InventoryGroup</th>\n",
       "    </tr>\n",
       "  </thead>\n",
       "  <tbody>\n",
       "  </tbody>\n",
       "</table>\n",
       "</div>"
      ],
      "text/plain": [
       "Empty DataFrame\n",
       "Columns: [ItemId, Description, CaseQty, CaseUOM, PakQty, PakUOM, InventoryGroup]\n",
       "Index: []"
      ]
     },
     "execution_count": 7,
     "metadata": {},
     "output_type": "execute_result"
    }
   ],
   "source": [
    "# None of the items are egg yolk liq\n",
    "Items.loc[Items[\"Description\"] == \"Egg Yolk Liq\"]"
   ]
  },
  {
   "cell_type": "code",
   "execution_count": 8,
   "metadata": {},
   "outputs": [
    {
     "data": {
      "text/html": [
       "<div>\n",
       "<style scoped>\n",
       "    .dataframe tbody tr th:only-of-type {\n",
       "        vertical-align: middle;\n",
       "    }\n",
       "\n",
       "    .dataframe tbody tr th {\n",
       "        vertical-align: top;\n",
       "    }\n",
       "\n",
       "    .dataframe thead th {\n",
       "        text-align: right;\n",
       "    }\n",
       "</style>\n",
       "<table border=\"1\" class=\"dataframe\">\n",
       "  <thead>\n",
       "    <tr style=\"text-align: right;\">\n",
       "      <th></th>\n",
       "      <th>ItemId</th>\n",
       "      <th>Description</th>\n",
       "      <th>CaseQty</th>\n",
       "      <th>CaseUOM</th>\n",
       "      <th>PakQty</th>\n",
       "      <th>PakUOM</th>\n",
       "      <th>InventoryGroup</th>\n",
       "    </tr>\n",
       "  </thead>\n",
       "  <tbody>\n",
       "  </tbody>\n",
       "</table>\n",
       "</div>"
      ],
      "text/plain": [
       "Empty DataFrame\n",
       "Columns: [ItemId, Description, CaseQty, CaseUOM, PakQty, PakUOM, InventoryGroup]\n",
       "Index: []"
      ]
     },
     "execution_count": 8,
     "metadata": {},
     "output_type": "execute_result"
    }
   ],
   "source": [
    "# Sumplemental option for egg, vegan option\n",
    "Items.loc[Items[\"ItemId\"] == \"I-68700\"]"
   ]
  },
  {
   "cell_type": "code",
   "execution_count": 9,
   "metadata": {},
   "outputs": [
    {
     "data": {
      "text/plain": [
       "['I-19634',\n",
       " 'I-13420',\n",
       " 'I-1271',\n",
       " 'I-11664',\n",
       " 'I-73353',\n",
       " 'I-24229',\n",
       " 'I-15032',\n",
       " 'I-1274',\n",
       " 'I-12478',\n",
       " 'I-11842']"
      ]
     },
     "execution_count": 9,
     "metadata": {},
     "output_type": "execute_result"
    }
   ],
   "source": [
    "# Gives you the list of breads\n",
    "breadlist = []\n",
    "\n",
    "\n",
    "# If the items in the Items list is a \"LOAF\", \"SANDWICH\", or \"BREAD\" then we should add it in the breadlist\n",
    "# We append it onto the breadlist at position row[\"ItemId\"]\n",
    "for ind, row in Items.iterrows():\n",
    "    if (\"LOAF\" or \"SANDWICH\" \"BREAD\") in row[\"Description\"]:\n",
    "        breadlist.append(row[\"ItemId\"])\n",
    "\n",
    "breadlist"
   ]
  },
  {
   "cell_type": "code",
   "execution_count": 10,
   "metadata": {},
   "outputs": [],
   "source": [
    "Items = Items[~Items[\"InventoryGroup\"].isin([\"DISPOSABLES\", \"SUPPLY\"])]"
   ]
  },
  {
   "cell_type": "code",
   "execution_count": 11,
   "metadata": {},
   "outputs": [
    {
     "data": {
      "text/plain": [
       "(675, 7)"
      ]
     },
     "execution_count": 11,
     "metadata": {},
     "output_type": "execute_result"
    }
   ],
   "source": [
    "# Based on info below there are 486 rows and 7 columns\n",
    "Items.shape"
   ]
  },
  {
   "cell_type": "code",
   "execution_count": 12,
   "metadata": {},
   "outputs": [
    {
     "data": {
      "text/plain": [
       "ItemId            object\n",
       "Description       object\n",
       "CaseQty           object\n",
       "CaseUOM           object\n",
       "PakQty            object\n",
       "PakUOM            object\n",
       "InventoryGroup    object\n",
       "dtype: object"
      ]
     },
     "execution_count": 12,
     "metadata": {},
     "output_type": "execute_result"
    }
   ],
   "source": [
    "Items.dtypes"
   ]
  },
  {
   "cell_type": "code",
   "execution_count": 13,
   "metadata": {},
   "outputs": [],
   "source": [
    "# Save the dataframe to csv\n",
    "path = os.path.join(os.getcwd(), \"data\", \"preprocessed\", \"Items_List.csv\")\n",
    "Items.to_csv(path, index = False, header = True)"
   ]
  },
  {
   "cell_type": "markdown",
   "metadata": {},
   "source": [
    "### Import Ingredients List"
   ]
  },
  {
   "cell_type": "code",
   "execution_count": 14,
   "metadata": {},
   "outputs": [],
   "source": [
    "# Read ingredients.xml files in the filepath_list and construct a dataframe\n",
    "IngredientId = []\n",
    "Conversion = []\n",
    "InvFactor = []\n",
    "Qty = []\n",
    "Recipe = []\n",
    "Uom = []\n",
    "\n",
    "# Using the Ingredients XML file, we extract attributes containing ingredients, conversion, invFactor, qty, recipe, and uom. \n",
    "# Then we append it onto the IngredientId, Coversion, InvFactor, Qty, Recipe, and Uom lists\n",
    "# Then we create a dataframe using the lists created. \n",
    "\n",
    "for filepath in filepath_list:\n",
    "    path = filepath + '/Ingredients.xml'\n",
    "    if os.path.isfile(path):\n",
    "        xtree = et.parse(path)\n",
    "        xroot = xtree.getroot()\n",
    "        for x in xtree.iterfind('Ingredient'):\n",
    "            IngredientId.append(x.attrib['ingredient'])\n",
    "            Conversion.append(x.attrib['conversion'])\n",
    "            InvFactor.append(x.attrib['invFactor'])\n",
    "            Qty.append(x.attrib['qty'])\n",
    "            Recipe.append(x.attrib['recipe'])\n",
    "            Uom.append(x.attrib['uom'])\n",
    "    \n",
    "Ingredients = pd.DataFrame({'IngredientId': IngredientId, 'Qty': Qty,'Uom': Uom, 'Conversion': Conversion, \n",
    "                      'InvFactor': InvFactor,'Recipe': Recipe}).drop_duplicates()\n",
    "Ingredients.drop_duplicates(subset=[\"IngredientId\", \"Recipe\"], inplace=True)\n",
    "\n",
    "Ingredients.reset_index(drop=True, inplace=True)"
   ]
  },
  {
   "cell_type": "code",
   "execution_count": 15,
   "metadata": {
    "scrolled": false
   },
   "outputs": [
    {
     "data": {
      "text/html": [
       "<div>\n",
       "<style scoped>\n",
       "    .dataframe tbody tr th:only-of-type {\n",
       "        vertical-align: middle;\n",
       "    }\n",
       "\n",
       "    .dataframe tbody tr th {\n",
       "        vertical-align: top;\n",
       "    }\n",
       "\n",
       "    .dataframe thead th {\n",
       "        text-align: right;\n",
       "    }\n",
       "</style>\n",
       "<table border=\"1\" class=\"dataframe\">\n",
       "  <thead>\n",
       "    <tr style=\"text-align: right;\">\n",
       "      <th></th>\n",
       "      <th>IngredientId</th>\n",
       "      <th>Qty</th>\n",
       "      <th>Uom</th>\n",
       "      <th>Conversion</th>\n",
       "      <th>InvFactor</th>\n",
       "      <th>Recipe</th>\n",
       "    </tr>\n",
       "  </thead>\n",
       "  <tbody>\n",
       "    <tr>\n",
       "      <th>1570</th>\n",
       "      <td>I-29389</td>\n",
       "      <td>2.500</td>\n",
       "      <td>Kg</td>\n",
       "      <td>1.00000000</td>\n",
       "      <td>1.0000</td>\n",
       "      <td>P-50739</td>\n",
       "    </tr>\n",
       "    <tr>\n",
       "      <th>2210</th>\n",
       "      <td>I-29389</td>\n",
       "      <td>0.700</td>\n",
       "      <td>Kg</td>\n",
       "      <td>1.00000000</td>\n",
       "      <td>0.1286</td>\n",
       "      <td>P-56431</td>\n",
       "    </tr>\n",
       "  </tbody>\n",
       "</table>\n",
       "</div>"
      ],
      "text/plain": [
       "     IngredientId    Qty Uom  Conversion InvFactor   Recipe\n",
       "1570      I-29389  2.500  Kg  1.00000000    1.0000  P-50739\n",
       "2210      I-29389  0.700  Kg  1.00000000    0.1286  P-56431"
      ]
     },
     "execution_count": 15,
     "metadata": {},
     "output_type": "execute_result"
    }
   ],
   "source": [
    "Ingredients.loc[Ingredients[\"IngredientId\"] == \"I-29389\"]"
   ]
  },
  {
   "cell_type": "code",
   "execution_count": 16,
   "metadata": {},
   "outputs": [
    {
     "data": {
      "text/plain": [
       "5       P-18746\n",
       "21      I-12176\n",
       "26       I-3642\n",
       "28       I-3387\n",
       "36       I-5983\n",
       "         ...   \n",
       "5491     P-9714\n",
       "5492    I-22493\n",
       "5493    P-26514\n",
       "5494    P-44913\n",
       "5495    P-50725\n",
       "Name: IngredientId, Length: 3908, dtype: object"
      ]
     },
     "execution_count": 16,
     "metadata": {},
     "output_type": "execute_result"
    }
   ],
   "source": [
    "# This will output the IngredientId on the right side and the number of times the ingredient appears in the Ingredients\n",
    "# dataframe on the left side. \n",
    "\n",
    "# The duplicated() method returns a Series with True and False values that describe which rows in the DataFrame are \n",
    "# duplicated and not.\n",
    "\n",
    "check = Ingredients[\"IngredientId\"].duplicated()\n",
    "\n",
    "# The line below tells us at which index is the ingredient duplicated. For example I-4598 exists on index 2 of the dataframe and\n",
    "# then again on index 8. So duplicate is first true on index 8, which is why it is printed below. It also appears in a below \n",
    "# index so it is printed again with that index number. \n",
    "Ingredients[\"IngredientId\"][check]"
   ]
  },
  {
   "cell_type": "code",
   "execution_count": 17,
   "metadata": {},
   "outputs": [
    {
     "data": {
      "text/html": [
       "<div>\n",
       "<style scoped>\n",
       "    .dataframe tbody tr th:only-of-type {\n",
       "        vertical-align: middle;\n",
       "    }\n",
       "\n",
       "    .dataframe tbody tr th {\n",
       "        vertical-align: top;\n",
       "    }\n",
       "\n",
       "    .dataframe thead th {\n",
       "        text-align: right;\n",
       "    }\n",
       "</style>\n",
       "<table border=\"1\" class=\"dataframe\">\n",
       "  <thead>\n",
       "    <tr style=\"text-align: right;\">\n",
       "      <th></th>\n",
       "      <th>IngredientId</th>\n",
       "      <th>Qty</th>\n",
       "      <th>Uom</th>\n",
       "      <th>Conversion</th>\n",
       "      <th>InvFactor</th>\n",
       "      <th>Recipe</th>\n",
       "    </tr>\n",
       "  </thead>\n",
       "  <tbody>\n",
       "  </tbody>\n",
       "</table>\n",
       "</div>"
      ],
      "text/plain": [
       "Empty DataFrame\n",
       "Columns: [IngredientId, Qty, Uom, Conversion, InvFactor, Recipe]\n",
       "Index: []"
      ]
     },
     "execution_count": 17,
     "metadata": {},
     "output_type": "execute_result"
    }
   ],
   "source": [
    "# We can see from the printed items above that I-64877 does not appear because it does not get duplicated\n",
    "Ingredients.loc[Ingredients[\"IngredientId\"] == \"I-64877\"]"
   ]
  },
  {
   "cell_type": "code",
   "execution_count": 18,
   "metadata": {},
   "outputs": [
    {
     "data": {
      "text/html": [
       "<div>\n",
       "<style scoped>\n",
       "    .dataframe tbody tr th:only-of-type {\n",
       "        vertical-align: middle;\n",
       "    }\n",
       "\n",
       "    .dataframe tbody tr th {\n",
       "        vertical-align: top;\n",
       "    }\n",
       "\n",
       "    .dataframe thead th {\n",
       "        text-align: right;\n",
       "    }\n",
       "</style>\n",
       "<table border=\"1\" class=\"dataframe\">\n",
       "  <thead>\n",
       "    <tr style=\"text-align: right;\">\n",
       "      <th></th>\n",
       "      <th>IngredientId</th>\n",
       "      <th>Qty</th>\n",
       "      <th>Uom</th>\n",
       "      <th>Conversion</th>\n",
       "      <th>InvFactor</th>\n",
       "      <th>Recipe</th>\n",
       "    </tr>\n",
       "  </thead>\n",
       "  <tbody>\n",
       "    <tr>\n",
       "      <th>0</th>\n",
       "      <td>P-9857</td>\n",
       "      <td>5.000</td>\n",
       "      <td>Kg</td>\n",
       "      <td>1.00000000</td>\n",
       "      <td>1.1111</td>\n",
       "      <td>P-10112</td>\n",
       "    </tr>\n",
       "    <tr>\n",
       "      <th>1</th>\n",
       "      <td>P-48933</td>\n",
       "      <td>1.000</td>\n",
       "      <td>Kg</td>\n",
       "      <td>1.00000000</td>\n",
       "      <td>1.0000</td>\n",
       "      <td>P-10113</td>\n",
       "    </tr>\n",
       "    <tr>\n",
       "      <th>2</th>\n",
       "      <td>I-4626</td>\n",
       "      <td>16.000</td>\n",
       "      <td>CT</td>\n",
       "      <td>1.00000000</td>\n",
       "      <td>2.6667</td>\n",
       "      <td>P-10115</td>\n",
       "    </tr>\n",
       "    <tr>\n",
       "      <th>3</th>\n",
       "      <td>P-9755</td>\n",
       "      <td>1.000</td>\n",
       "      <td>lb</td>\n",
       "      <td>1.00000000</td>\n",
       "      <td>1.0000</td>\n",
       "      <td>P-10119</td>\n",
       "    </tr>\n",
       "    <tr>\n",
       "      <th>4</th>\n",
       "      <td>P-18746</td>\n",
       "      <td>1.000</td>\n",
       "      <td>Kg</td>\n",
       "      <td>1.00000000</td>\n",
       "      <td>1.0000</td>\n",
       "      <td>P-10241</td>\n",
       "    </tr>\n",
       "    <tr>\n",
       "      <th>...</th>\n",
       "      <td>...</td>\n",
       "      <td>...</td>\n",
       "      <td>...</td>\n",
       "      <td>...</td>\n",
       "      <td>...</td>\n",
       "      <td>...</td>\n",
       "    </tr>\n",
       "    <tr>\n",
       "      <th>5492</th>\n",
       "      <td>I-22493</td>\n",
       "      <td>5.000</td>\n",
       "      <td>g</td>\n",
       "      <td>0.00100000</td>\n",
       "      <td>1.0000</td>\n",
       "      <td>R-73668</td>\n",
       "    </tr>\n",
       "    <tr>\n",
       "      <th>5493</th>\n",
       "      <td>P-26514</td>\n",
       "      <td>2.000</td>\n",
       "      <td>g</td>\n",
       "      <td>1.00000000</td>\n",
       "      <td>1.0000</td>\n",
       "      <td>R-73668</td>\n",
       "    </tr>\n",
       "    <tr>\n",
       "      <th>5494</th>\n",
       "      <td>P-44913</td>\n",
       "      <td>90.000</td>\n",
       "      <td>g</td>\n",
       "      <td>0.00100000</td>\n",
       "      <td>1.0000</td>\n",
       "      <td>R-73668</td>\n",
       "    </tr>\n",
       "    <tr>\n",
       "      <th>5495</th>\n",
       "      <td>P-50725</td>\n",
       "      <td>1.000</td>\n",
       "      <td>ea</td>\n",
       "      <td>1.00000000</td>\n",
       "      <td>1.0000</td>\n",
       "      <td>R-73668</td>\n",
       "    </tr>\n",
       "    <tr>\n",
       "      <th>5496</th>\n",
       "      <td>P-73667</td>\n",
       "      <td>25.000</td>\n",
       "      <td>ml</td>\n",
       "      <td>0.00100000</td>\n",
       "      <td>1.0000</td>\n",
       "      <td>R-73668</td>\n",
       "    </tr>\n",
       "  </tbody>\n",
       "</table>\n",
       "<p>5497 rows × 6 columns</p>\n",
       "</div>"
      ],
      "text/plain": [
       "     IngredientId     Qty Uom  Conversion InvFactor   Recipe\n",
       "0          P-9857   5.000  Kg  1.00000000    1.1111  P-10112\n",
       "1         P-48933   1.000  Kg  1.00000000    1.0000  P-10113\n",
       "2          I-4626  16.000  CT  1.00000000    2.6667  P-10115\n",
       "3          P-9755   1.000  lb  1.00000000    1.0000  P-10119\n",
       "4         P-18746   1.000  Kg  1.00000000    1.0000  P-10241\n",
       "...           ...     ...  ..         ...       ...      ...\n",
       "5492      I-22493   5.000   g  0.00100000    1.0000  R-73668\n",
       "5493      P-26514   2.000   g  1.00000000    1.0000  R-73668\n",
       "5494      P-44913  90.000   g  0.00100000    1.0000  R-73668\n",
       "5495      P-50725   1.000  ea  1.00000000    1.0000  R-73668\n",
       "5496      P-73667  25.000  ml  0.00100000    1.0000  R-73668\n",
       "\n",
       "[5497 rows x 6 columns]"
      ]
     },
     "execution_count": 18,
     "metadata": {},
     "output_type": "execute_result"
    }
   ],
   "source": [
    "Ingredients"
   ]
  },
  {
   "cell_type": "code",
   "execution_count": 19,
   "metadata": {},
   "outputs": [
    {
     "data": {
      "text/html": [
       "<div>\n",
       "<style scoped>\n",
       "    .dataframe tbody tr th:only-of-type {\n",
       "        vertical-align: middle;\n",
       "    }\n",
       "\n",
       "    .dataframe tbody tr th {\n",
       "        vertical-align: top;\n",
       "    }\n",
       "\n",
       "    .dataframe thead th {\n",
       "        text-align: right;\n",
       "    }\n",
       "</style>\n",
       "<table border=\"1\" class=\"dataframe\">\n",
       "  <thead>\n",
       "    <tr style=\"text-align: right;\">\n",
       "      <th></th>\n",
       "      <th>IngredientId</th>\n",
       "      <th>Qty</th>\n",
       "      <th>Uom</th>\n",
       "      <th>Conversion</th>\n",
       "      <th>InvFactor</th>\n",
       "      <th>Recipe</th>\n",
       "    </tr>\n",
       "  </thead>\n",
       "  <tbody>\n",
       "  </tbody>\n",
       "</table>\n",
       "</div>"
      ],
      "text/plain": [
       "Empty DataFrame\n",
       "Columns: [IngredientId, Qty, Uom, Conversion, InvFactor, Recipe]\n",
       "Index: []"
      ]
     },
     "execution_count": 19,
     "metadata": {},
     "output_type": "execute_result"
    }
   ],
   "source": [
    "# Below we are checking if we can extract an entire recipe. So we can do .loc with the particular recipe id and then \n",
    "# print all the data points (ingredientId, Qty, Uom, Conversion, InvFactor) for that recipe. \n",
    "Ingredients.loc[Ingredients[\"Recipe\"] == \"R-68698\"]"
   ]
  },
  {
   "cell_type": "code",
   "execution_count": 20,
   "metadata": {},
   "outputs": [
    {
     "data": {
      "text/html": [
       "<div>\n",
       "<style scoped>\n",
       "    .dataframe tbody tr th:only-of-type {\n",
       "        vertical-align: middle;\n",
       "    }\n",
       "\n",
       "    .dataframe tbody tr th {\n",
       "        vertical-align: top;\n",
       "    }\n",
       "\n",
       "    .dataframe thead th {\n",
       "        text-align: right;\n",
       "    }\n",
       "</style>\n",
       "<table border=\"1\" class=\"dataframe\">\n",
       "  <thead>\n",
       "    <tr style=\"text-align: right;\">\n",
       "      <th></th>\n",
       "      <th>ItemId</th>\n",
       "      <th>Description</th>\n",
       "      <th>CaseQty</th>\n",
       "      <th>CaseUOM</th>\n",
       "      <th>PakQty</th>\n",
       "      <th>PakUOM</th>\n",
       "      <th>InventoryGroup</th>\n",
       "    </tr>\n",
       "  </thead>\n",
       "  <tbody>\n",
       "    <tr>\n",
       "      <th>0</th>\n",
       "      <td>I-7631</td>\n",
       "      <td>5 SPICE POWDER</td>\n",
       "      <td>1.000</td>\n",
       "      <td>ea</td>\n",
       "      <td>1.000</td>\n",
       "      <td>lb</td>\n",
       "      <td>SPICES</td>\n",
       "    </tr>\n",
       "    <tr>\n",
       "      <th>1</th>\n",
       "      <td>I-43851</td>\n",
       "      <td>AJWAIN 5LB</td>\n",
       "      <td>5.000</td>\n",
       "      <td>lb</td>\n",
       "      <td>454.000</td>\n",
       "      <td>g</td>\n",
       "      <td>SPICES</td>\n",
       "    </tr>\n",
       "    <tr>\n",
       "      <th>2</th>\n",
       "      <td>I-3617</td>\n",
       "      <td>ALLSPICE GROUND SHAKER</td>\n",
       "      <td>8.000</td>\n",
       "      <td>each</td>\n",
       "      <td>454.000</td>\n",
       "      <td>g</td>\n",
       "      <td>SPICES</td>\n",
       "    </tr>\n",
       "    <tr>\n",
       "      <th>3</th>\n",
       "      <td>I-1852</td>\n",
       "      <td>ALMOND BEV - ORIGINAL</td>\n",
       "      <td>24.000</td>\n",
       "      <td>CT</td>\n",
       "      <td>1.000</td>\n",
       "      <td>CT</td>\n",
       "      <td>BEVERAGE</td>\n",
       "    </tr>\n",
       "    <tr>\n",
       "      <th>4</th>\n",
       "      <td>I-44059</td>\n",
       "      <td>ALMOND BUTTER*</td>\n",
       "      <td>10.000</td>\n",
       "      <td>Kg</td>\n",
       "      <td>1.000</td>\n",
       "      <td>Kg</td>\n",
       "      <td>FOOD - GROCERY</td>\n",
       "    </tr>\n",
       "    <tr>\n",
       "      <th>...</th>\n",
       "      <td>...</td>\n",
       "      <td>...</td>\n",
       "      <td>...</td>\n",
       "      <td>...</td>\n",
       "      <td>...</td>\n",
       "      <td>...</td>\n",
       "      <td>...</td>\n",
       "    </tr>\n",
       "    <tr>\n",
       "      <th>670</th>\n",
       "      <td>I-3642</td>\n",
       "      <td>PEPPER BLK*COARSE GRD</td>\n",
       "      <td>2.100</td>\n",
       "      <td>Kg</td>\n",
       "      <td>1000.000</td>\n",
       "      <td>g</td>\n",
       "      <td>SPICES</td>\n",
       "    </tr>\n",
       "    <tr>\n",
       "      <th>671</th>\n",
       "      <td>I-6026</td>\n",
       "      <td>SALT KOSHER*</td>\n",
       "      <td>9.000</td>\n",
       "      <td>pak</td>\n",
       "      <td>1360.780</td>\n",
       "      <td>g</td>\n",
       "      <td>SPICES</td>\n",
       "    </tr>\n",
       "    <tr>\n",
       "      <th>672</th>\n",
       "      <td>I-12176</td>\n",
       "      <td>SALT SEA*COARSE KOSHER</td>\n",
       "      <td>1.000</td>\n",
       "      <td>CT</td>\n",
       "      <td>2.270</td>\n",
       "      <td>Kg</td>\n",
       "      <td>SPICES</td>\n",
       "    </tr>\n",
       "    <tr>\n",
       "      <th>673</th>\n",
       "      <td>I-4904</td>\n",
       "      <td>STRAWBERRIES (CLAMSHELL) US</td>\n",
       "      <td>8.000</td>\n",
       "      <td>lb</td>\n",
       "      <td>1.000</td>\n",
       "      <td>lb</td>\n",
       "      <td>PRODUCE</td>\n",
       "    </tr>\n",
       "    <tr>\n",
       "      <th>674</th>\n",
       "      <td>I-3592</td>\n",
       "      <td>SUNFLOWER RAW*TFC</td>\n",
       "      <td>2.000</td>\n",
       "      <td>bag</td>\n",
       "      <td>1.500</td>\n",
       "      <td>Kg</td>\n",
       "      <td>FOOD - GROCERY</td>\n",
       "    </tr>\n",
       "  </tbody>\n",
       "</table>\n",
       "<p>675 rows × 7 columns</p>\n",
       "</div>"
      ],
      "text/plain": [
       "      ItemId                  Description CaseQty CaseUOM    PakQty PakUOM  \\\n",
       "0     I-7631               5 SPICE POWDER   1.000      ea     1.000     lb   \n",
       "1    I-43851                   AJWAIN 5LB   5.000      lb   454.000      g   \n",
       "2     I-3617      ALLSPICE GROUND SHAKER    8.000    each   454.000      g   \n",
       "3     I-1852        ALMOND BEV - ORIGINAL  24.000      CT     1.000     CT   \n",
       "4    I-44059               ALMOND BUTTER*  10.000      Kg     1.000     Kg   \n",
       "..       ...                          ...     ...     ...       ...    ...   \n",
       "670   I-3642        PEPPER BLK*COARSE GRD   2.100      Kg  1000.000      g   \n",
       "671   I-6026                 SALT KOSHER*   9.000     pak  1360.780      g   \n",
       "672  I-12176       SALT SEA*COARSE KOSHER   1.000      CT     2.270     Kg   \n",
       "673   I-4904  STRAWBERRIES (CLAMSHELL) US   8.000      lb     1.000     lb   \n",
       "674   I-3592            SUNFLOWER RAW*TFC   2.000     bag     1.500     Kg   \n",
       "\n",
       "     InventoryGroup  \n",
       "0            SPICES  \n",
       "1            SPICES  \n",
       "2            SPICES  \n",
       "3          BEVERAGE  \n",
       "4    FOOD - GROCERY  \n",
       "..              ...  \n",
       "670          SPICES  \n",
       "671          SPICES  \n",
       "672          SPICES  \n",
       "673         PRODUCE  \n",
       "674  FOOD - GROCERY  \n",
       "\n",
       "[675 rows x 7 columns]"
      ]
     },
     "execution_count": 20,
     "metadata": {},
     "output_type": "execute_result"
    }
   ],
   "source": [
    "Items"
   ]
  },
  {
   "cell_type": "code",
   "execution_count": 21,
   "metadata": {},
   "outputs": [
    {
     "data": {
      "text/plain": [
       "(5497, 6)"
      ]
     },
     "execution_count": 21,
     "metadata": {},
     "output_type": "execute_result"
    }
   ],
   "source": [
    "Ingredients.shape"
   ]
  },
  {
   "cell_type": "code",
   "execution_count": 22,
   "metadata": {},
   "outputs": [
    {
     "data": {
      "text/plain": [
       "IngredientId    object\n",
       "Qty             object\n",
       "Uom             object\n",
       "Conversion      object\n",
       "InvFactor       object\n",
       "Recipe          object\n",
       "dtype: object"
      ]
     },
     "execution_count": 22,
     "metadata": {},
     "output_type": "execute_result"
    }
   ],
   "source": [
    "Ingredients.dtypes"
   ]
  },
  {
   "cell_type": "code",
   "execution_count": 23,
   "metadata": {},
   "outputs": [],
   "source": [
    "# Save the dataframe to csv\n",
    "path = os.path.join(os.getcwd(), \"data\", \"preprocessed\", \"Ingredients_List.csv\")\n",
    "Ingredients.to_csv(path, index = False, header = True)"
   ]
  },
  {
   "cell_type": "markdown",
   "metadata": {},
   "source": [
    "### Import Preps List"
   ]
  },
  {
   "cell_type": "code",
   "execution_count": 24,
   "metadata": {},
   "outputs": [],
   "source": [
    "# Read preps.xml files in the filepath_list and construct a dataframe\n",
    "PrepId = []\n",
    "Description = []\n",
    "PakQty = []\n",
    "PakUOM = []\n",
    "InventoryGroup = []\n",
    "\n",
    "\n",
    "# Here we do the same thing for the Preps XML file where we find the columns using attrib function and then append it onto\n",
    "# the dataframe called Preps. \n",
    "\n",
    "for filepath in filepath_list:\n",
    "    path = filepath + '/Preps.xml'\n",
    "    if os.path.isfile(path):\n",
    "        xtree = et.parse(path)\n",
    "        xroot = xtree.getroot()\n",
    "        for x in xtree.iterfind('Prep'):\n",
    "            PrepId.append(x.attrib['id'])\n",
    "            Description.append(x.findtext('Description'))\n",
    "            PakQty.append(x.findtext('PakQty'))\n",
    "            PakUOM.append(x.findtext('PakUOM'))\n",
    "            InventoryGroup.append(x.findtext('InventoryGroup'))\n",
    "    \n",
    "Preps = pd.DataFrame({'PrepId': PrepId, 'Description': Description,\n",
    "                  'PakQty': PakQty, 'PakUOM':PakUOM, 'InventoryGroup': InventoryGroup}).drop_duplicates()\n",
    "preps_columns = Preps.columns\n",
    "Preps.drop_duplicates(subset=[\"PrepId\"], inplace=True)\n",
    "\n",
    "Preps.reset_index(drop=True, inplace=True)"
   ]
  },
  {
   "cell_type": "code",
   "execution_count": 25,
   "metadata": {},
   "outputs": [
    {
     "data": {
      "text/html": [
       "<div>\n",
       "<style scoped>\n",
       "    .dataframe tbody tr th:only-of-type {\n",
       "        vertical-align: middle;\n",
       "    }\n",
       "\n",
       "    .dataframe tbody tr th {\n",
       "        vertical-align: top;\n",
       "    }\n",
       "\n",
       "    .dataframe thead th {\n",
       "        text-align: right;\n",
       "    }\n",
       "</style>\n",
       "<table border=\"1\" class=\"dataframe\">\n",
       "  <thead>\n",
       "    <tr style=\"text-align: right;\">\n",
       "      <th></th>\n",
       "      <th>PrepId</th>\n",
       "      <th>Description</th>\n",
       "      <th>PakQty</th>\n",
       "      <th>PakUOM</th>\n",
       "      <th>InventoryGroup</th>\n",
       "    </tr>\n",
       "  </thead>\n",
       "  <tbody>\n",
       "    <tr>\n",
       "      <th>0</th>\n",
       "      <td>P-68207</td>\n",
       "      <td>24|BATCH|Poblano Pork Stew*</td>\n",
       "      <td>100.000</td>\n",
       "      <td>PTN</td>\n",
       "      <td>PREP</td>\n",
       "    </tr>\n",
       "    <tr>\n",
       "      <th>1</th>\n",
       "      <td>P-61322</td>\n",
       "      <td>AIOLI|Pesto</td>\n",
       "      <td>4.000</td>\n",
       "      <td>L</td>\n",
       "      <td>ZDONT USE OK - PREP</td>\n",
       "    </tr>\n",
       "    <tr>\n",
       "      <th>2</th>\n",
       "      <td>P-46066</td>\n",
       "      <td>Almond Milk Yeild</td>\n",
       "      <td>900.000</td>\n",
       "      <td>ml</td>\n",
       "      <td></td>\n",
       "    </tr>\n",
       "    <tr>\n",
       "      <th>3</th>\n",
       "      <td>P-8814</td>\n",
       "      <td>Aoli- RoastedGarlic Thyme</td>\n",
       "      <td>1.100</td>\n",
       "      <td>L</td>\n",
       "      <td></td>\n",
       "    </tr>\n",
       "    <tr>\n",
       "      <th>4</th>\n",
       "      <td>P-49605</td>\n",
       "      <td>APPLE|Cubed</td>\n",
       "      <td>75.000</td>\n",
       "      <td>g</td>\n",
       "      <td></td>\n",
       "    </tr>\n",
       "    <tr>\n",
       "      <th>...</th>\n",
       "      <td>...</td>\n",
       "      <td>...</td>\n",
       "      <td>...</td>\n",
       "      <td>...</td>\n",
       "      <td>...</td>\n",
       "    </tr>\n",
       "    <tr>\n",
       "      <th>898</th>\n",
       "      <td>P-54352</td>\n",
       "      <td>Garnish|Avocado Spinach Pasta</td>\n",
       "      <td>20.000</td>\n",
       "      <td>g</td>\n",
       "      <td></td>\n",
       "    </tr>\n",
       "    <tr>\n",
       "      <th>899</th>\n",
       "      <td>P-73667</td>\n",
       "      <td>PREP|Chili Crunch|SL</td>\n",
       "      <td>4.500</td>\n",
       "      <td>L</td>\n",
       "      <td>FEAST</td>\n",
       "    </tr>\n",
       "    <tr>\n",
       "      <th>900</th>\n",
       "      <td>P-73472</td>\n",
       "      <td>PREP|SALAD|Tomato CucMint|MED</td>\n",
       "      <td>6.000</td>\n",
       "      <td>Kg</td>\n",
       "      <td></td>\n",
       "    </tr>\n",
       "    <tr>\n",
       "      <th>901</th>\n",
       "      <td>P-70825</td>\n",
       "      <td>PREP|Sliced Strawberry*</td>\n",
       "      <td>1.300</td>\n",
       "      <td>Kg</td>\n",
       "      <td></td>\n",
       "    </tr>\n",
       "    <tr>\n",
       "      <th>902</th>\n",
       "      <td>P-73266</td>\n",
       "      <td>SALAD|QuinoaTabbouleh|MED*</td>\n",
       "      <td>2.800</td>\n",
       "      <td>Kg</td>\n",
       "      <td>PREP</td>\n",
       "    </tr>\n",
       "  </tbody>\n",
       "</table>\n",
       "<p>903 rows × 5 columns</p>\n",
       "</div>"
      ],
      "text/plain": [
       "      PrepId                    Description   PakQty PakUOM  \\\n",
       "0    P-68207    24|BATCH|Poblano Pork Stew*  100.000    PTN   \n",
       "1    P-61322                    AIOLI|Pesto    4.000      L   \n",
       "2    P-46066             Almond Milk Yeild   900.000     ml   \n",
       "3     P-8814      Aoli- RoastedGarlic Thyme    1.100      L   \n",
       "4    P-49605                   APPLE|Cubed    75.000      g   \n",
       "..       ...                            ...      ...    ...   \n",
       "898  P-54352  Garnish|Avocado Spinach Pasta   20.000      g   \n",
       "899  P-73667           PREP|Chili Crunch|SL    4.500      L   \n",
       "900  P-73472  PREP|SALAD|Tomato CucMint|MED    6.000     Kg   \n",
       "901  P-70825        PREP|Sliced Strawberry*    1.300     Kg   \n",
       "902  P-73266     SALAD|QuinoaTabbouleh|MED*    2.800     Kg   \n",
       "\n",
       "          InventoryGroup  \n",
       "0                   PREP  \n",
       "1    ZDONT USE OK - PREP  \n",
       "2                         \n",
       "3                         \n",
       "4                         \n",
       "..                   ...  \n",
       "898                       \n",
       "899                FEAST  \n",
       "900                       \n",
       "901                       \n",
       "902                 PREP  \n",
       "\n",
       "[903 rows x 5 columns]"
      ]
     },
     "execution_count": 25,
     "metadata": {},
     "output_type": "execute_result"
    }
   ],
   "source": [
    "Preps"
   ]
  },
  {
   "cell_type": "code",
   "execution_count": 26,
   "metadata": {},
   "outputs": [
    {
     "name": "stdout",
     "output_type": "stream",
     "text": [
      "False\n"
     ]
    }
   ],
   "source": [
    "# This tells us that there are not any duplicates in the Preps dataframe. There is a different process|ingredient pair for \n",
    "# all the recipes. \n",
    "check = Preps[\"PrepId\"].duplicated().any()\n",
    "print(check)"
   ]
  },
  {
   "cell_type": "code",
   "execution_count": 27,
   "metadata": {},
   "outputs": [
    {
     "data": {
      "text/plain": [
       "(903, 5)"
      ]
     },
     "execution_count": 27,
     "metadata": {},
     "output_type": "execute_result"
    }
   ],
   "source": [
    "# There are 546 rows and 5 columns\n",
    "Preps.shape"
   ]
  },
  {
   "cell_type": "code",
   "execution_count": 28,
   "metadata": {},
   "outputs": [
    {
     "data": {
      "text/html": [
       "<div>\n",
       "<style scoped>\n",
       "    .dataframe tbody tr th:only-of-type {\n",
       "        vertical-align: middle;\n",
       "    }\n",
       "\n",
       "    .dataframe tbody tr th {\n",
       "        vertical-align: top;\n",
       "    }\n",
       "\n",
       "    .dataframe thead th {\n",
       "        text-align: right;\n",
       "    }\n",
       "</style>\n",
       "<table border=\"1\" class=\"dataframe\">\n",
       "  <thead>\n",
       "    <tr style=\"text-align: right;\">\n",
       "      <th></th>\n",
       "      <th>PrepId</th>\n",
       "      <th>Description</th>\n",
       "      <th>PakQty</th>\n",
       "      <th>PakUOM</th>\n",
       "      <th>InventoryGroup</th>\n",
       "    </tr>\n",
       "  </thead>\n",
       "  <tbody>\n",
       "    <tr>\n",
       "      <th>70</th>\n",
       "      <td>P-50739</td>\n",
       "      <td>COMPOTE|Apple Cinnamon|AAD</td>\n",
       "      <td>2.500</td>\n",
       "      <td>L</td>\n",
       "      <td>PREP</td>\n",
       "    </tr>\n",
       "  </tbody>\n",
       "</table>\n",
       "</div>"
      ],
      "text/plain": [
       "     PrepId                 Description PakQty PakUOM InventoryGroup\n",
       "70  P-50739  COMPOTE|Apple Cinnamon|AAD  2.500      L           PREP"
      ]
     },
     "execution_count": 28,
     "metadata": {},
     "output_type": "execute_result"
    }
   ],
   "source": [
    "# Here we see there is only one place P-50739 is used in the Preps\n",
    "Preps.loc[Preps[\"PrepId\"] == \"P-50739\"]"
   ]
  },
  {
   "cell_type": "code",
   "execution_count": 29,
   "metadata": {},
   "outputs": [
    {
     "data": {
      "text/plain": [
       "PrepId            object\n",
       "Description       object\n",
       "PakQty            object\n",
       "PakUOM            object\n",
       "InventoryGroup    object\n",
       "dtype: object"
      ]
     },
     "execution_count": 29,
     "metadata": {},
     "output_type": "execute_result"
    }
   ],
   "source": [
    "Preps.dtypes"
   ]
  },
  {
   "cell_type": "code",
   "execution_count": 30,
   "metadata": {},
   "outputs": [],
   "source": [
    "# Save the dataframe to csv\n",
    "path = os.path.join(os.getcwd(), \"data\", \"preprocessed\", \"Preps_List.csv\")\n",
    "Preps.to_csv(path, index = False, header = True)"
   ]
  },
  {
   "cell_type": "markdown",
   "metadata": {},
   "source": [
    "### Import Products List"
   ]
  },
  {
   "cell_type": "code",
   "execution_count": 31,
   "metadata": {},
   "outputs": [],
   "source": [
    "# Read products.xml files in the filepath_list and construct a dataframe\n",
    "ProdId = []\n",
    "Description = []\n",
    "SalesGroup = []\n",
    "\n",
    "# From the XML file for products append the id into ProdId, description into Description, and SalesGroup into SalesGroup list.\n",
    "# Make a dataframe out of the 3 lists\n",
    "# Then also drop the duplicates in the Products dataframe\n",
    "\n",
    "for filepath in filepath_list:\n",
    "    path = filepath + '/Products.xml'\n",
    "    if os.path.isfile(path):\n",
    "        xtree = et.parse(path)\n",
    "        xroot = xtree.getroot()\n",
    "        for x in xtree.iterfind('Prod'):\n",
    "            ProdId.append(x.attrib['id'])\n",
    "            Description.append(x.findtext('Description'))\n",
    "            SalesGroup.append(x.findtext('SalesGroup'))\n",
    "        \n",
    "Products = pd.DataFrame({'ProdId': ProdId, 'Description': Description, 'SalesGroup': SalesGroup})\n",
    "Products.drop_duplicates(inplace=True)\n",
    "\n",
    "Products.reset_index(drop=True, inplace=True)"
   ]
  },
  {
   "cell_type": "code",
   "execution_count": 32,
   "metadata": {},
   "outputs": [
    {
     "data": {
      "text/html": [
       "<div>\n",
       "<style scoped>\n",
       "    .dataframe tbody tr th:only-of-type {\n",
       "        vertical-align: middle;\n",
       "    }\n",
       "\n",
       "    .dataframe tbody tr th {\n",
       "        vertical-align: top;\n",
       "    }\n",
       "\n",
       "    .dataframe thead th {\n",
       "        text-align: right;\n",
       "    }\n",
       "</style>\n",
       "<table border=\"1\" class=\"dataframe\">\n",
       "  <thead>\n",
       "    <tr style=\"text-align: right;\">\n",
       "      <th></th>\n",
       "      <th>ProdId</th>\n",
       "      <th>Description</th>\n",
       "      <th>SalesGroup</th>\n",
       "    </tr>\n",
       "  </thead>\n",
       "  <tbody>\n",
       "    <tr>\n",
       "      <th>0</th>\n",
       "      <td>R-73669</td>\n",
       "      <td>DEL|smoothie| mango pineapple</td>\n",
       "      <td>GV - DELISH</td>\n",
       "    </tr>\n",
       "    <tr>\n",
       "      <th>1</th>\n",
       "      <td>R-56613</td>\n",
       "      <td>DEL|Smoothie|Almonds forever</td>\n",
       "      <td>GV - DELISH</td>\n",
       "    </tr>\n",
       "    <tr>\n",
       "      <th>2</th>\n",
       "      <td>R-44306</td>\n",
       "      <td>DEL|Smoothie|Banana Matcha</td>\n",
       "      <td>GV - DELISH</td>\n",
       "    </tr>\n",
       "    <tr>\n",
       "      <th>3</th>\n",
       "      <td>R-43697</td>\n",
       "      <td>DEL|Smoothie|Blueberry Boost</td>\n",
       "      <td>GV - DELISH</td>\n",
       "    </tr>\n",
       "    <tr>\n",
       "      <th>4</th>\n",
       "      <td>R-46074</td>\n",
       "      <td>DEL|Smoothie|Bna Almnd Buta</td>\n",
       "      <td>GV - DELISH</td>\n",
       "    </tr>\n",
       "    <tr>\n",
       "      <th>...</th>\n",
       "      <td>...</td>\n",
       "      <td>...</td>\n",
       "      <td>...</td>\n",
       "    </tr>\n",
       "    <tr>\n",
       "      <th>397</th>\n",
       "      <td>R-72778</td>\n",
       "      <td>SL|BBQ Porkchop|AAD</td>\n",
       "      <td>GV SIMPLY LOCAL</td>\n",
       "    </tr>\n",
       "    <tr>\n",
       "      <th>398</th>\n",
       "      <td>R-72819</td>\n",
       "      <td>SL|Lemon Pepper Chichen|AAD</td>\n",
       "      <td>GV SIMPLY LOCAL</td>\n",
       "    </tr>\n",
       "    <tr>\n",
       "      <th>399</th>\n",
       "      <td>R-70824</td>\n",
       "      <td>DEL|Strawberry Salad|AAD*</td>\n",
       "      <td>GV - DELISH</td>\n",
       "    </tr>\n",
       "    <tr>\n",
       "      <th>400</th>\n",
       "      <td>R-46347</td>\n",
       "      <td>FF|Pasta|Avocado Spin old</td>\n",
       "      <td>GV FRESH FARE DAY</td>\n",
       "    </tr>\n",
       "    <tr>\n",
       "      <th>401</th>\n",
       "      <td>R-73668</td>\n",
       "      <td>FF|Toast|ChiliCrunCAvocado|AAD</td>\n",
       "      <td>GV FRESH FARE BREAKFAST</td>\n",
       "    </tr>\n",
       "  </tbody>\n",
       "</table>\n",
       "<p>402 rows × 3 columns</p>\n",
       "</div>"
      ],
      "text/plain": [
       "      ProdId                     Description               SalesGroup\n",
       "0    R-73669   DEL|smoothie| mango pineapple              GV - DELISH\n",
       "1    R-56613    DEL|Smoothie|Almonds forever              GV - DELISH\n",
       "2    R-44306     DEL|Smoothie|Banana Matcha               GV - DELISH\n",
       "3    R-43697   DEL|Smoothie|Blueberry Boost               GV - DELISH\n",
       "4    R-46074     DEL|Smoothie|Bna Almnd Buta              GV - DELISH\n",
       "..       ...                             ...                      ...\n",
       "397  R-72778             SL|BBQ Porkchop|AAD          GV SIMPLY LOCAL\n",
       "398  R-72819     SL|Lemon Pepper Chichen|AAD          GV SIMPLY LOCAL\n",
       "399  R-70824       DEL|Strawberry Salad|AAD*              GV - DELISH\n",
       "400  R-46347       FF|Pasta|Avocado Spin old        GV FRESH FARE DAY\n",
       "401  R-73668  FF|Toast|ChiliCrunCAvocado|AAD  GV FRESH FARE BREAKFAST\n",
       "\n",
       "[402 rows x 3 columns]"
      ]
     },
     "execution_count": 32,
     "metadata": {},
     "output_type": "execute_result"
    }
   ],
   "source": [
    "Products"
   ]
  },
  {
   "cell_type": "code",
   "execution_count": 33,
   "metadata": {
    "scrolled": true
   },
   "outputs": [
    {
     "data": {
      "text/html": [
       "<div>\n",
       "<style scoped>\n",
       "    .dataframe tbody tr th:only-of-type {\n",
       "        vertical-align: middle;\n",
       "    }\n",
       "\n",
       "    .dataframe tbody tr th {\n",
       "        vertical-align: top;\n",
       "    }\n",
       "\n",
       "    .dataframe thead th {\n",
       "        text-align: right;\n",
       "    }\n",
       "</style>\n",
       "<table border=\"1\" class=\"dataframe\">\n",
       "  <thead>\n",
       "    <tr style=\"text-align: right;\">\n",
       "      <th></th>\n",
       "      <th>ProdId</th>\n",
       "      <th>Description</th>\n",
       "      <th>SalesGroup</th>\n",
       "    </tr>\n",
       "  </thead>\n",
       "  <tbody>\n",
       "  </tbody>\n",
       "</table>\n",
       "</div>"
      ],
      "text/plain": [
       "Empty DataFrame\n",
       "Columns: [ProdId, Description, SalesGroup]\n",
       "Index: []"
      ]
     },
     "execution_count": 33,
     "metadata": {},
     "output_type": "execute_result"
    }
   ],
   "source": [
    "# Here we can see that there is only one R-56966 in the products \n",
    "Products.loc[Products[\"ProdId\"] == \"R-56966\"]"
   ]
  },
  {
   "cell_type": "code",
   "execution_count": 34,
   "metadata": {},
   "outputs": [
    {
     "data": {
      "text/plain": [
       "ProdId         object\n",
       "Description    object\n",
       "SalesGroup     object\n",
       "dtype: object"
      ]
     },
     "execution_count": 34,
     "metadata": {},
     "output_type": "execute_result"
    }
   ],
   "source": [
    "Products.dtypes"
   ]
  },
  {
   "cell_type": "code",
   "execution_count": 35,
   "metadata": {},
   "outputs": [
    {
     "data": {
      "text/html": [
       "<div>\n",
       "<style scoped>\n",
       "    .dataframe tbody tr th:only-of-type {\n",
       "        vertical-align: middle;\n",
       "    }\n",
       "\n",
       "    .dataframe tbody tr th {\n",
       "        vertical-align: top;\n",
       "    }\n",
       "\n",
       "    .dataframe thead th {\n",
       "        text-align: right;\n",
       "    }\n",
       "</style>\n",
       "<table border=\"1\" class=\"dataframe\">\n",
       "  <thead>\n",
       "    <tr style=\"text-align: right;\">\n",
       "      <th></th>\n",
       "      <th>ProdId</th>\n",
       "      <th>Description</th>\n",
       "      <th>SalesGroup</th>\n",
       "    </tr>\n",
       "  </thead>\n",
       "  <tbody>\n",
       "  </tbody>\n",
       "</table>\n",
       "</div>"
      ],
      "text/plain": [
       "Empty DataFrame\n",
       "Columns: [ProdId, Description, SalesGroup]\n",
       "Index: []"
      ]
     },
     "execution_count": 35,
     "metadata": {},
     "output_type": "execute_result"
    }
   ],
   "source": [
    "# Here we can see that there is only one R-68698 in the products \n",
    "Products.loc[Products[\"ProdId\"] == \"R-68698\"]"
   ]
  },
  {
   "cell_type": "code",
   "execution_count": 36,
   "metadata": {},
   "outputs": [
    {
     "data": {
      "text/plain": [
       "(402, 3)"
      ]
     },
     "execution_count": 36,
     "metadata": {},
     "output_type": "execute_result"
    }
   ],
   "source": [
    "Products.shape"
   ]
  },
  {
   "cell_type": "code",
   "execution_count": 37,
   "metadata": {},
   "outputs": [
    {
     "data": {
      "text/plain": [
       "ProdId         object\n",
       "Description    object\n",
       "SalesGroup     object\n",
       "dtype: object"
      ]
     },
     "execution_count": 37,
     "metadata": {},
     "output_type": "execute_result"
    }
   ],
   "source": [
    "Products.dtypes"
   ]
  },
  {
   "cell_type": "code",
   "execution_count": 38,
   "metadata": {},
   "outputs": [],
   "source": [
    "# Save the dataframe to csv\n",
    "path = os.path.join(os.getcwd(), \"data\", \"preprocessed\", \"Products_List.csv\")\n",
    "Products.to_csv(path, index = False, header = True)"
   ]
  },
  {
   "cell_type": "markdown",
   "metadata": {},
   "source": [
    "### Import Conversions List"
   ]
  },
  {
   "cell_type": "code",
   "execution_count": 39,
   "metadata": {
    "scrolled": true
   },
   "outputs": [],
   "source": [
    "# Read conventions.xml files in the filepath_list and construct a dataframe\n",
    "ConversionId = []\n",
    "Multiplier = []\n",
    "ConvertFromQty = []\n",
    "ConvertFromUom = []\n",
    "ConvertToQty = []\n",
    "ConvertToUom = []\n",
    "\n",
    "# From the XML file for Conversions append the id into ConversionId, multiplier into Multiplier, ConvertFrom->qty into \n",
    "# ConvertFromQty,ConvertFrom->uom into ConvertFromUom, ConvertTo->qty into ConvertToQty and and ConvertTo->uom into the\n",
    "# CovertToUom list. \n",
    "# Make a dataframe out of the 3 lists\n",
    "# Then also drop the duplicates in the Products dataframe\n",
    "\n",
    "\n",
    "for filepath in filepath_list:\n",
    "    path = filepath + '/Conversions.xml'\n",
    "    if os.path.isfile(path):\n",
    "        xtree = et.parse(path)\n",
    "        xroot = xtree.getroot()\n",
    "        for x in xtree.iterfind('Conversion'):\n",
    "            ConversionId.append(x.attrib['id'])\n",
    "            Multiplier.append(x.attrib['multiplier'])\n",
    "            ConvertFromQty.append(x.find('ConvertFrom').attrib['qty'])\n",
    "            ConvertFromUom.append(x.find('ConvertFrom').attrib['uom'])\n",
    "            ConvertToQty.append(x.find('ConvertTo').attrib['qty'])\n",
    "            ConvertToUom.append(x.find('ConvertTo').attrib['uom'])\n",
    "    \n",
    "    \n",
    "Conversions = pd.DataFrame({'ConversionId': ConversionId, 'Multiplier': Multiplier, 'ConvertFromQty': ConvertFromQty,\n",
    "                           'ConvertFromUom': ConvertFromUom, 'ConvertToQty': ConvertToQty, 'ConvertToUom': ConvertToUom}\n",
    "                          ).drop_duplicates()\n",
    "\n",
    "Conversions.reset_index(drop=True, inplace=True)"
   ]
  },
  {
   "cell_type": "code",
   "execution_count": 40,
   "metadata": {},
   "outputs": [
    {
     "data": {
      "text/html": [
       "<div>\n",
       "<style scoped>\n",
       "    .dataframe tbody tr th:only-of-type {\n",
       "        vertical-align: middle;\n",
       "    }\n",
       "\n",
       "    .dataframe tbody tr th {\n",
       "        vertical-align: top;\n",
       "    }\n",
       "\n",
       "    .dataframe thead th {\n",
       "        text-align: right;\n",
       "    }\n",
       "</style>\n",
       "<table border=\"1\" class=\"dataframe\">\n",
       "  <thead>\n",
       "    <tr style=\"text-align: right;\">\n",
       "      <th></th>\n",
       "      <th>ConversionId</th>\n",
       "      <th>Multiplier</th>\n",
       "      <th>ConvertFromQty</th>\n",
       "      <th>ConvertFromUom</th>\n",
       "      <th>ConvertToQty</th>\n",
       "      <th>ConvertToUom</th>\n",
       "    </tr>\n",
       "  </thead>\n",
       "  <tbody>\n",
       "    <tr>\n",
       "      <th>0</th>\n",
       "      <td></td>\n",
       "      <td>1.00000000</td>\n",
       "      <td>1.0000</td>\n",
       "      <td>XXX</td>\n",
       "      <td>1.0000</td>\n",
       "      <td>L</td>\n",
       "    </tr>\n",
       "    <tr>\n",
       "      <th>1</th>\n",
       "      <td></td>\n",
       "      <td>0.87719298</td>\n",
       "      <td>1.0000</td>\n",
       "      <td>1.14L</td>\n",
       "      <td>1.1400</td>\n",
       "      <td>L</td>\n",
       "    </tr>\n",
       "    <tr>\n",
       "      <th>2</th>\n",
       "      <td></td>\n",
       "      <td>0.66666667</td>\n",
       "      <td>1.0000</td>\n",
       "      <td>1.5L</td>\n",
       "      <td>1.5000</td>\n",
       "      <td>L</td>\n",
       "    </tr>\n",
       "    <tr>\n",
       "      <th>3</th>\n",
       "      <td></td>\n",
       "      <td>0.57142857</td>\n",
       "      <td>1.0000</td>\n",
       "      <td>1.75 L</td>\n",
       "      <td>1.7500</td>\n",
       "      <td>L</td>\n",
       "    </tr>\n",
       "    <tr>\n",
       "      <th>4</th>\n",
       "      <td></td>\n",
       "      <td>0.50000000</td>\n",
       "      <td>1.0000</td>\n",
       "      <td>2L</td>\n",
       "      <td>2.0000</td>\n",
       "      <td>L</td>\n",
       "    </tr>\n",
       "    <tr>\n",
       "      <th>...</th>\n",
       "      <td>...</td>\n",
       "      <td>...</td>\n",
       "      <td>...</td>\n",
       "      <td>...</td>\n",
       "      <td>...</td>\n",
       "      <td>...</td>\n",
       "    </tr>\n",
       "    <tr>\n",
       "      <th>329</th>\n",
       "      <td>I-43958</td>\n",
       "      <td>0.02000000</td>\n",
       "      <td>1.0000</td>\n",
       "      <td>each</td>\n",
       "      <td>50.0000</td>\n",
       "      <td>g</td>\n",
       "    </tr>\n",
       "    <tr>\n",
       "      <th>330</th>\n",
       "      <td>I-45114</td>\n",
       "      <td>0.03333333</td>\n",
       "      <td>0.5000</td>\n",
       "      <td>fl oz</td>\n",
       "      <td>15.0000</td>\n",
       "      <td>g</td>\n",
       "    </tr>\n",
       "    <tr>\n",
       "      <th>331</th>\n",
       "      <td>I-47525</td>\n",
       "      <td>0.00408163</td>\n",
       "      <td>1.0000</td>\n",
       "      <td>cup</td>\n",
       "      <td>245.0000</td>\n",
       "      <td>g</td>\n",
       "    </tr>\n",
       "    <tr>\n",
       "      <th>332</th>\n",
       "      <td>I-56382</td>\n",
       "      <td>0.00100000</td>\n",
       "      <td>1.0000</td>\n",
       "      <td>L</td>\n",
       "      <td>1000.0000</td>\n",
       "      <td>g</td>\n",
       "    </tr>\n",
       "    <tr>\n",
       "      <th>333</th>\n",
       "      <td>I-63034</td>\n",
       "      <td>0.01098901</td>\n",
       "      <td>1.0000</td>\n",
       "      <td>CT</td>\n",
       "      <td>91.0000</td>\n",
       "      <td>g</td>\n",
       "    </tr>\n",
       "  </tbody>\n",
       "</table>\n",
       "<p>334 rows × 6 columns</p>\n",
       "</div>"
      ],
      "text/plain": [
       "    ConversionId  Multiplier ConvertFromQty ConvertFromUom ConvertToQty  \\\n",
       "0                 1.00000000         1.0000            XXX       1.0000   \n",
       "1                 0.87719298         1.0000          1.14L       1.1400   \n",
       "2                 0.66666667         1.0000           1.5L       1.5000   \n",
       "3                 0.57142857         1.0000         1.75 L       1.7500   \n",
       "4                 0.50000000         1.0000             2L       2.0000   \n",
       "..           ...         ...            ...            ...          ...   \n",
       "329      I-43958  0.02000000         1.0000           each      50.0000   \n",
       "330      I-45114  0.03333333         0.5000          fl oz      15.0000   \n",
       "331      I-47525  0.00408163         1.0000            cup     245.0000   \n",
       "332      I-56382  0.00100000         1.0000              L    1000.0000   \n",
       "333      I-63034  0.01098901         1.0000             CT      91.0000   \n",
       "\n",
       "    ConvertToUom  \n",
       "0              L  \n",
       "1              L  \n",
       "2              L  \n",
       "3              L  \n",
       "4              L  \n",
       "..           ...  \n",
       "329            g  \n",
       "330            g  \n",
       "331            g  \n",
       "332            g  \n",
       "333            g  \n",
       "\n",
       "[334 rows x 6 columns]"
      ]
     },
     "execution_count": 40,
     "metadata": {},
     "output_type": "execute_result"
    }
   ],
   "source": [
    "# Here we can see for example that to convert 1.14 L to 1 L the multiplier is 0.877 since 1/1.14 = 0.877\n",
    "Conversions"
   ]
  },
  {
   "cell_type": "code",
   "execution_count": 41,
   "metadata": {},
   "outputs": [
    {
     "data": {
      "text/html": [
       "<div>\n",
       "<style scoped>\n",
       "    .dataframe tbody tr th:only-of-type {\n",
       "        vertical-align: middle;\n",
       "    }\n",
       "\n",
       "    .dataframe tbody tr th {\n",
       "        vertical-align: top;\n",
       "    }\n",
       "\n",
       "    .dataframe thead th {\n",
       "        text-align: right;\n",
       "    }\n",
       "</style>\n",
       "<table border=\"1\" class=\"dataframe\">\n",
       "  <thead>\n",
       "    <tr style=\"text-align: right;\">\n",
       "      <th></th>\n",
       "      <th>ConversionId</th>\n",
       "      <th>Multiplier</th>\n",
       "      <th>ConvertFromQty</th>\n",
       "      <th>ConvertFromUom</th>\n",
       "      <th>ConvertToQty</th>\n",
       "      <th>ConvertToUom</th>\n",
       "    </tr>\n",
       "  </thead>\n",
       "  <tbody>\n",
       "    <tr>\n",
       "      <th>243</th>\n",
       "      <td>I-4582</td>\n",
       "      <td>0.10000000</td>\n",
       "      <td>1.0000</td>\n",
       "      <td>CT</td>\n",
       "      <td>10.0000</td>\n",
       "      <td>g</td>\n",
       "    </tr>\n",
       "  </tbody>\n",
       "</table>\n",
       "</div>"
      ],
      "text/plain": [
       "    ConversionId  Multiplier ConvertFromQty ConvertFromUom ConvertToQty  \\\n",
       "243       I-4582  0.10000000         1.0000             CT      10.0000   \n",
       "\n",
       "    ConvertToUom  \n",
       "243            g  "
      ]
     },
     "execution_count": 41,
     "metadata": {},
     "output_type": "execute_result"
    }
   ],
   "source": [
    "# Here we can check that there are no ingredients listed since \n",
    "Conversions.loc[Conversions[\"ConversionId\"] == \"I-4582\"]"
   ]
  },
  {
   "cell_type": "code",
   "execution_count": 42,
   "metadata": {},
   "outputs": [
    {
     "name": "stdout",
     "output_type": "stream",
     "text": [
      "All unique IDs list\n",
      "\n",
      "['I-7631' 'I-43851' 'I-3617' 'I-1852' 'I-44059' 'I-43854' 'I-43652'\n",
      " 'I-2852' 'I-2853' 'I-6924' 'I-11181' 'I-4255' 'I-29389' 'I-4458'\n",
      " 'I-13253' 'I-18918' 'I-4971' 'I-4465' 'I-4472' 'I-4973' 'I-65741'\n",
      " 'I-27410' 'I-63697' 'I-1252' 'I-1207' 'I-18089' 'I-4495' 'I-4496'\n",
      " 'I-4491' 'I-3119' 'I-22443' 'I-4507' 'I-3130' 'I-3133' 'I-3141' 'I-3310'\n",
      " 'I-38906' 'I-53706' 'I-3619' 'I-2567' 'I-2866' 'I-23336' 'I-3143'\n",
      " 'I-4518' 'I-3144' 'I-7935' 'I-3145' 'I-3146' 'I-10616' 'I-3743' 'I-3149'\n",
      " 'I-34065' 'I-3838' 'I-37002' 'I-3846' 'I-7064' 'I-17670' 'I-11661'\n",
      " 'I-72216' 'I-3867' 'I-4521' 'I-13050' 'I-32246' 'I-7185' 'I-4531'\n",
      " 'I-2574' 'I-43648' 'I-4538' 'I-41921' 'I-73416' 'I-73415' 'I-4546'\n",
      " 'I-31126' 'I-63874' 'I-67659' 'I-72414' 'I-63034' 'I-6020' 'I-8060'\n",
      " 'I-4550' 'I-4558' 'I-4557' 'I-4556' 'I-13635' 'I-3159' 'I-3586' 'I-11213'\n",
      " 'I-3620' 'I-4582' 'I-10871' 'I-4589' 'I-4572' 'I-4590' 'I-4574' 'I-11048'\n",
      " 'I-4593' 'I-3621' 'I-4598' 'I-4599' 'I-34504' 'I-72465' 'I-29346'\n",
      " 'I-7953' 'I-17479' 'I-47399' 'I-2110' 'I-14177' 'I-14181' 'I-2245'\n",
      " 'I-2119' 'I-2081' 'I-51962' 'I-2122' 'I-15033' 'I-2126' 'I-17615'\n",
      " 'I-17616' 'I-2138' 'I-2060' 'I-14179' 'I-11240' 'I-2140' 'I-2141'\n",
      " 'I-17617' 'I-2146' 'I-17618' 'I-3992' 'I-3993' 'I-55331' 'I-3979'\n",
      " 'I-43958' 'I-3965' 'I-4009' 'I-4008' 'I-4027' 'I-4010' 'I-4016' 'I-19665'\n",
      " 'I-8363' 'I-37478' 'I-5975' 'I-40451' 'I-3622' 'I-3623' 'I-3624'\n",
      " 'I-19283' 'I-3120' 'I-26462' 'I-57545' 'I-32363' 'I-65714' 'I-17151'\n",
      " 'I-65852' 'I-3625' 'I-2979' 'I-3627' 'I-5977' 'I-44472' 'I-11215'\n",
      " 'I-3628' 'I-1471' 'I-2980' 'I-40951' 'I-3223' 'I-3224' 'I-3225' 'I-3226'\n",
      " 'I-13634' 'I-12823' 'I-49251' 'I-70559' 'I-2501' 'I-3629' 'I-50750'\n",
      " 'I-11094' 'I-4978' 'I-32265' 'I-3231' 'I-5077' 'I-3239' 'I-65800'\n",
      " 'I-2217' 'I-2188' 'I-65799' 'I-4626' 'I-4628' 'I-4347' 'I-6832' 'I-3630'\n",
      " 'I-42360' 'I-3631' 'I-9832' 'I-4633' 'I-4635' 'I-4637' 'I-3634' 'I-9346'\n",
      " 'I-46598' 'I-3272' 'I-2596' 'I-2159' 'I-2157' 'I-2156' 'I-68699' 'I-2158'\n",
      " 'I-2166' 'I-2167' 'I-4642' 'I-4640' 'I-1196' 'I-1197' 'I-20348' 'I-3284'\n",
      " 'I-3898' 'I-13903' 'I-19540' 'I-3290' 'I-3291' 'I-43852' 'I-11189'\n",
      " 'I-7055' 'I-1122' 'I-71938' 'I-2603' 'I-73346' 'I-2609' 'I-71889'\n",
      " 'I-4653' 'I-4655' 'I-11207' 'I-4657' 'I-3632' 'I-51440' 'I-4658' 'I-9685'\n",
      " 'I-4660' 'I-19986' 'I-9830' 'I-3080' 'I-29665' 'I-28914' 'I-28899'\n",
      " 'I-19923' 'I-13800' 'I-2306' 'I-2310' 'I-71921' 'I-17666' 'I-72060'\n",
      " 'I-22493' 'I-23753' 'I-4508' 'I-4981' 'I-4617' 'I-4341' 'I-4695' 'I-4708'\n",
      " 'I-4724' 'I-4767' 'I-4772' 'I-11545' 'I-4847' 'I-4983' 'I-4848' 'I-4918'\n",
      " 'I-4919' 'I-7725' 'I-37880' 'I-3321' 'I-10605' 'I-10775' 'I-3914'\n",
      " 'I-45297' 'I-1792' 'I-1758' 'I-1813' 'I-1759' 'I-6443' 'I-1820' 'I-1816'\n",
      " 'I-1821' 'I-1814' 'I-4698' 'I-10282' 'I-17932' 'I-3336' 'I-3337'\n",
      " 'I-21532' 'I-54025' 'I-13425' 'I-11312' 'I-4703' 'I-6876' 'I-4709'\n",
      " 'I-3340' 'I-4463' 'I-10923' 'I-4690' 'I-4677' 'I-4673' 'I-4693' 'I-6777'\n",
      " 'I-4915' 'I-4712' 'I-19634' 'I-13420' 'I-1271' 'I-11664' 'I-73353'\n",
      " 'I-24229' 'I-15032' 'I-1274' 'I-12478' 'I-5003' 'I-3636' 'I-44632'\n",
      " 'I-60772' 'I-3348' 'I-72745' 'I-71922' 'I-2220' 'I-2251' 'I-3355'\n",
      " 'I-2208' 'I-47525' 'I-2174' 'I-6791' 'I-3360' 'I-3363' 'I-3364' 'I-8395'\n",
      " 'I-4725' 'I-4729' 'I-4731' 'I-4732' 'I-4735' 'I-4737' 'I-3365' 'I-3367'\n",
      " 'I-2897' 'I-3368' 'I-3370' 'I-2898' 'I-3637' 'I-34956' 'I-1028' 'I-7912'\n",
      " 'I-73414' 'I-19295' 'I-3083' 'I-36577' 'I-30178' 'I-3379' 'I-3638'\n",
      " 'I-52622' 'I-52698' 'I-38274' 'I-3182' 'I-56382' 'I-3386' 'I-3387'\n",
      " 'I-3388' 'I-26014' 'I-6006' 'I-3389' 'I-3390' 'I-3391' 'I-3392' 'I-9375'\n",
      " 'I-6014' 'I-7062' 'I-6829' 'I-3397' 'I-6779' 'I-4745' 'I-3639' 'I-51824'\n",
      " 'I-4742' 'I-4743' 'I-40968' 'I-4375' 'I-4681' 'I-4679' 'I-10482'\n",
      " 'I-17150' 'I-4756' 'I-5010' 'I-4757' 'I-6807' 'I-4747' 'I-4750' 'I-4381'\n",
      " 'I-4766' 'I-3314' 'I-2911' 'I-3243' 'I-72437' 'I-41181' 'I-5979'\n",
      " 'I-11194' 'I-3640' 'I-3641' 'I-5978' 'I-3315' 'I-3316' 'I-4775' 'I-5970'\n",
      " 'I-3408' 'I-37842' 'I-3414' 'I-3416' 'I-30144' 'I-2648' 'I-3419' 'I-3420'\n",
      " 'I-3422' 'I-3424' 'I-7766' 'I-37475' 'I-41267' 'I-3245' 'I-2653'\n",
      " 'I-16215' 'I-9687' 'I-3431' 'I-3433' 'I-3434' 'I-11813' 'I-3435'\n",
      " 'I-11656' 'I-2656' 'I-43562' 'I-3643' 'I-2051' 'I-6812' 'I-11172'\n",
      " 'I-3642' 'I-3445' 'I-3644' 'I-3447' 'I-3448' 'I-3449' 'I-3580' 'I-3581'\n",
      " 'I-30504' 'I-7787' 'I-3451' 'I-3647' 'I-3646' 'I-42230' 'I-3649' 'I-3094'\n",
      " 'I-9759' 'I-40458' 'I-4785' 'I-4786' 'I-4689' 'I-4787' 'I-30068' 'I-4791'\n",
      " 'I-4792' 'I-5014' 'I-4832' 'I-4795' 'I-4796' 'I-4797' 'I-6017' 'I-3454'\n",
      " 'I-1126' 'I-1127' 'I-4800' 'I-30101' 'I-3458' 'I-3459' 'I-3460' 'I-62913'\n",
      " 'I-1033' 'I-1034' 'I-1035' 'I-28904' 'I-61511' 'I-22916' 'I-3851'\n",
      " 'I-72217' 'I-3854' 'I-22915' 'I-3855' 'I-3856' 'I-72215' 'I-3858'\n",
      " 'I-13423' 'I-16497' 'I-11807' 'I-10279' 'I-4811' 'I-11051' 'I-4817'\n",
      " 'I-4818' 'I-4819' 'I-65576' 'I-17580' 'I-3588' 'I-3468' 'I-3016'\n",
      " 'I-15329' 'I-3779' 'I-11185' 'I-4826' 'I-4830' 'I-5015' 'I-42143'\n",
      " 'I-3475' 'I-3476' 'I-36672' 'I-3477' 'I-36775' 'I-3481' 'I-3485'\n",
      " 'I-71940' 'I-3099' 'I-3487' 'I-3635' 'I-3317' 'I-17582' 'I-58278'\n",
      " 'I-11101' 'I-52244' 'I-13226' 'I-11808' 'I-4852' 'I-6466' 'I-3497'\n",
      " 'I-6026' 'I-12176' 'I-3506' 'I-3507' 'I-17054' 'I-9379' 'I-45114'\n",
      " 'I-3517' 'I-7978' 'I-10864' 'I-3520' 'I-37469' 'I-3524' 'I-7705'\n",
      " 'I-72190' 'I-14773' 'I-2697' 'I-2698' 'I-3553' 'I-47774' 'I-63875'\n",
      " 'I-3560' 'I-3563' 'I-22026' 'I-3571' 'I-3572' 'I-3575' 'I-17667'\n",
      " 'I-13303' 'I-3577' 'I-3583' 'I-5130' 'I-3312' 'I-40944' 'I-3591' 'I-3590'\n",
      " 'I-19143' 'I-3589' 'I-10481' 'I-4894' 'I-40609' 'I-17593' 'I-8856'\n",
      " 'I-35682' 'I-2254' 'I-1273' 'I-11842' 'I-5021' 'I-19610' 'I-4488'\n",
      " 'I-5022' 'I-4896' 'I-3103' 'I-4450' 'I-4509' 'I-4900' 'I-20342' 'I-4549'\n",
      " 'I-4898' 'I-11806' 'I-12325' 'I-11218' 'I-6820' 'I-40936' 'I-28907'\n",
      " 'I-28920' 'I-4907' 'I-48356' 'I-6028' 'I-3658' 'I-3657' 'I-3660'\n",
      " 'I-71943' 'I-3667' 'I-6810' 'I-30167' 'I-4913' 'I-3670' 'I-3671' 'I-3318'\n",
      " 'I-64875' 'I-7388' 'I-3110' 'I-40428' 'I-44341' 'I-4920' 'I-19737'\n",
      " 'I-3676' 'I-3677' 'I-3679' 'I-2948' 'I-3681' 'I-2949' 'I-4927' 'I-17159'\n",
      " 'I-35791' 'I-4933' 'I-15358' 'I-9341' 'I-1152' 'I-17047' 'I-3690'\n",
      " 'I-29019' 'I-9295' 'I-7065' 'I-3968' 'I-3654' 'I-40436' 'I-6781' 'I-9662'\n",
      " 'I-3113' 'I-3691' 'I-9382' 'I-21727' 'I-3692' 'I-3695' 'I-3696' 'I-3698'\n",
      " 'I-6825' 'I-29054' 'I-3738' 'I-5983' 'I-7949' 'I-7061' 'I-47530'\n",
      " 'I-11180' 'I-4952' 'I-29081' 'I-3771' 'I-6850' 'I-72037' 'I-68111'\n",
      " 'I-4967' 'I-69063' 'I-11401' 'I-37477' 'I-41492' 'I-4904' 'I-3592']\n",
      "\n",
      "\n",
      "All unique Conversions list\n",
      "\n",
      "['' 'I-1122' 'I-1197' 'I-1274' 'I-1759' 'I-1813' 'I-1814' 'I-1820'\n",
      " 'I-1821' 'I-2158' 'I-2159' 'I-2174' 'I-2188' 'I-2208' 'I-2217' 'I-2220'\n",
      " 'I-2251' 'I-2254' 'I-2306' 'I-2310' 'I-2596' 'I-2866' 'I-2949' 'I-3080'\n",
      " 'I-3113' 'I-3141' 'I-3143' 'I-3144' 'I-3145' 'I-3146' 'I-3149' 'I-3159'\n",
      " 'I-3223' 'I-3224' 'I-3225' 'I-3284' 'I-3321' 'I-3348' 'I-3365' 'I-3367'\n",
      " 'I-3370' 'I-3386' 'I-3387' 'I-3388' 'I-3389' 'I-3390' 'I-3391' 'I-3392'\n",
      " 'I-3435' 'I-3449' 'I-3458' 'I-3468' 'I-3497' 'I-3517' 'I-3563' 'I-3571'\n",
      " 'I-3572' 'I-3575' 'I-3577' 'I-3580' 'I-3589' 'I-3590' 'I-3591' 'I-3617'\n",
      " 'I-3619' 'I-3620' 'I-3621' 'I-3622' 'I-3623' 'I-3624' 'I-3625' 'I-3628'\n",
      " 'I-3629' 'I-3630' 'I-3631' 'I-3632' 'I-3634' 'I-3635' 'I-3636' 'I-3637'\n",
      " 'I-3638' 'I-3639' 'I-3640' 'I-3641' 'I-3642' 'I-3643' 'I-3644' 'I-3646'\n",
      " 'I-3647' 'I-3649' 'I-3654' 'I-3657' 'I-3658' 'I-3660' 'I-3670' 'I-3671'\n",
      " 'I-3676' 'I-3679' 'I-3681' 'I-3691' 'I-3692' 'I-3695' 'I-3698' 'I-3738'\n",
      " 'I-3854' 'I-3898' 'I-4255' 'I-4341' 'I-4347' 'I-4375' 'I-4450' 'I-4458'\n",
      " 'I-4472' 'I-4507' 'I-4557' 'I-4574' 'I-4582' 'I-4593' 'I-4598' 'I-4599'\n",
      " 'I-4626' 'I-4628' 'I-4635' 'I-4640' 'I-4677' 'I-4679' 'I-4690' 'I-4693'\n",
      " 'I-4698' 'I-4709' 'I-4712' 'I-4745' 'I-4772' 'I-4826' 'I-4894' 'I-4915'\n",
      " 'I-4981' 'I-5977' 'I-5983' 'I-6006' 'I-6017' 'I-6443' 'I-6777' 'I-6791'\n",
      " 'I-6812' 'I-6832' 'P-6888' 'I-6924' 'I-7061' 'I-7978' 'I-8060' 'I-9295'\n",
      " 'I-10775' 'I-11656' 'I-11664' 'I-12478' 'I-13253' 'I-13303' 'I-14181'\n",
      " 'I-16497' 'I-17615' 'I-17616' 'I-17617' 'I-17618' 'I-17670' 'I-19283'\n",
      " 'I-19737' 'I-20348' 'I-22026' 'I-22443' 'I-23336' 'I-26014' 'I-31126'\n",
      " 'I-40609' 'I-43958' 'I-45114' 'I-47525' 'I-56382' 'I-63034']\n"
     ]
    }
   ],
   "source": [
    "all_id_list = Items[\"ItemId\"].unique()\n",
    "all_conv_list = Conversions[\"ConversionId\"].unique()\n",
    "\n",
    "print(\"All unique IDs list\\n\")\n",
    "print(all_id_list)\n",
    "print(\"\\n\")\n",
    "print(\"All unique Conversions list\\n\")\n",
    "print(all_conv_list)"
   ]
  },
  {
   "cell_type": "code",
   "execution_count": 43,
   "metadata": {},
   "outputs": [
    {
     "name": "stdout",
     "output_type": "stream",
     "text": [
      "494\n"
     ]
    }
   ],
   "source": [
    "# Here we have the number of items in the list that are a part of the \"all_id_list\" but not part of the \"all_conv_list\"\n",
    "missing_conv_id = []\n",
    "\n",
    "for item in all_id_list:\n",
    "    if item not in all_conv_list:\n",
    "        missing_conv_id.append(item)\n",
    "        \n",
    "missing_conv_id\n",
    "print(len(missing_conv_id))"
   ]
  },
  {
   "cell_type": "code",
   "execution_count": 44,
   "metadata": {},
   "outputs": [
    {
     "data": {
      "text/plain": [
       "(334, 6)"
      ]
     },
     "execution_count": 44,
     "metadata": {},
     "output_type": "execute_result"
    }
   ],
   "source": [
    "Conversions.shape"
   ]
  },
  {
   "cell_type": "code",
   "execution_count": 45,
   "metadata": {},
   "outputs": [
    {
     "data": {
      "text/html": [
       "<div>\n",
       "<style scoped>\n",
       "    .dataframe tbody tr th:only-of-type {\n",
       "        vertical-align: middle;\n",
       "    }\n",
       "\n",
       "    .dataframe tbody tr th {\n",
       "        vertical-align: top;\n",
       "    }\n",
       "\n",
       "    .dataframe thead th {\n",
       "        text-align: right;\n",
       "    }\n",
       "</style>\n",
       "<table border=\"1\" class=\"dataframe\">\n",
       "  <thead>\n",
       "    <tr style=\"text-align: right;\">\n",
       "      <th></th>\n",
       "      <th>ConversionId</th>\n",
       "      <th>Multiplier</th>\n",
       "      <th>ConvertFromQty</th>\n",
       "      <th>ConvertFromUom</th>\n",
       "      <th>ConvertToQty</th>\n",
       "      <th>ConvertToUom</th>\n",
       "    </tr>\n",
       "  </thead>\n",
       "  <tbody>\n",
       "  </tbody>\n",
       "</table>\n",
       "</div>"
      ],
      "text/plain": [
       "Empty DataFrame\n",
       "Columns: [ConversionId, Multiplier, ConvertFromQty, ConvertFromUom, ConvertToQty, ConvertToUom]\n",
       "Index: []"
      ]
     },
     "execution_count": 45,
     "metadata": {},
     "output_type": "execute_result"
    }
   ],
   "source": [
    "Conversions.loc[Conversions[\"ConversionId\"] == \"I-29389\"]"
   ]
  },
  {
   "cell_type": "code",
   "execution_count": 46,
   "metadata": {
    "scrolled": false
   },
   "outputs": [
    {
     "data": {
      "text/plain": [
       "ConversionId      object\n",
       "Multiplier        object\n",
       "ConvertFromQty    object\n",
       "ConvertFromUom    object\n",
       "ConvertToQty      object\n",
       "ConvertToUom      object\n",
       "dtype: object"
      ]
     },
     "execution_count": 46,
     "metadata": {},
     "output_type": "execute_result"
    }
   ],
   "source": [
    "Conversions.dtypes"
   ]
  },
  {
   "cell_type": "code",
   "execution_count": 47,
   "metadata": {},
   "outputs": [],
   "source": [
    "# Save the dataframe to csv\n",
    "path = os.path.join(os.getcwd(), \"data\", \"preprocessed\", \"Conversions_List.csv\")\n",
    "Conversions.to_csv(path, index = False, header = True)"
   ]
  },
  {
   "cell_type": "markdown",
   "metadata": {},
   "source": [
    "***\n",
    "## Data Summary"
   ]
  },
  {
   "cell_type": "code",
   "execution_count": 48,
   "metadata": {},
   "outputs": [
    {
     "data": {
      "text/html": [
       "<div>\n",
       "<style scoped>\n",
       "    .dataframe tbody tr th:only-of-type {\n",
       "        vertical-align: middle;\n",
       "    }\n",
       "\n",
       "    .dataframe tbody tr th {\n",
       "        vertical-align: top;\n",
       "    }\n",
       "\n",
       "    .dataframe thead th {\n",
       "        text-align: right;\n",
       "    }\n",
       "</style>\n",
       "<table border=\"1\" class=\"dataframe\">\n",
       "  <thead>\n",
       "    <tr style=\"text-align: right;\">\n",
       "      <th></th>\n",
       "      <th>count</th>\n",
       "      <th>columns</th>\n",
       "    </tr>\n",
       "  </thead>\n",
       "  <tbody>\n",
       "    <tr>\n",
       "      <th>Items</th>\n",
       "      <td>675</td>\n",
       "      <td>7</td>\n",
       "    </tr>\n",
       "    <tr>\n",
       "      <th>Preps</th>\n",
       "      <td>903</td>\n",
       "      <td>5</td>\n",
       "    </tr>\n",
       "    <tr>\n",
       "      <th>Ingredients</th>\n",
       "      <td>5497</td>\n",
       "      <td>6</td>\n",
       "    </tr>\n",
       "    <tr>\n",
       "      <th>Products</th>\n",
       "      <td>402</td>\n",
       "      <td>3</td>\n",
       "    </tr>\n",
       "    <tr>\n",
       "      <th>Conversions</th>\n",
       "      <td>334</td>\n",
       "      <td>6</td>\n",
       "    </tr>\n",
       "  </tbody>\n",
       "</table>\n",
       "</div>"
      ],
      "text/plain": [
       "             count  columns\n",
       "Items          675        7\n",
       "Preps          903        5\n",
       "Ingredients   5497        6\n",
       "Products       402        3\n",
       "Conversions    334        6"
      ]
     },
     "execution_count": 48,
     "metadata": {},
     "output_type": "execute_result"
    }
   ],
   "source": [
    "# Summary of raw data imported for evaluation\n",
    "# Here we have a summary of the number of items, preps, ingredients, products, conversions\n",
    "\n",
    "datasum = pd.DataFrame([Items.shape, Preps.shape, Ingredients.shape, Products.shape, Conversions.shape],\n",
    "                       columns = ['count', 'columns'], \n",
    "                       index = ['Items', 'Preps', 'Ingredients', 'Products', 'Conversions'])\n",
    "datasum"
   ]
  }
 ],
 "metadata": {
  "kernelspec": {
   "display_name": "Python 3 (ipykernel)",
   "language": "python",
   "name": "python3"
  },
  "language_info": {
   "codemirror_mode": {
    "name": "ipython",
    "version": 3
   },
   "file_extension": ".py",
   "mimetype": "text/x-python",
   "name": "python",
   "nbconvert_exporter": "python",
   "pygments_lexer": "ipython3",
   "version": "3.12.3"
  }
 },
 "nbformat": 4,
 "nbformat_minor": 4
}
